{
 "cells": [
  {
   "cell_type": "code",
   "execution_count": 1,
   "metadata": {
    "collapsed": true
   },
   "outputs": [],
   "source": [
    "import pandas as pd\n",
    "import glob\n",
    "from sklearn.model_selection import train_test_split\n",
    "from sklearn.feature_extraction.text import TfidfVectorizer\n",
    "from sklearn.feature_extraction.text import CountVectorizer\n",
    "import nltk\n",
    "from nltk.tokenize import word_tokenize as WordTokenizer\n",
    "from sklearn.linear_model import LogisticRegression\n",
    "from sklearn.metrics import accuracy_score\n",
    "from sklearn.model_selection import cross_validate\n",
    "import pickle "
   ]
  },
  {
   "cell_type": "code",
   "execution_count": 2,
   "metadata": {
    "collapsed": true
   },
   "outputs": [],
   "source": [
    "# set the path of all files\n",
    "spam_train_files = r'data\\spam-train\\*.txt'\n",
    "not_spam_train_files=r'data\\nonspam-train\\*.txt'\n",
    "\n",
    "# method to get files data from disk\n",
    "def get_DatafromFiles(file_path):\n",
    "    filesList = []\n",
    "    file_data_list=[]\n",
    "    for files in glob.glob(file_path):\n",
    "        filesList.append(files) \n",
    "    for file in filesList:\n",
    "        with open(file,'r') as curfile:\n",
    "            file_data_list.append(curfile.readline())\n",
    "    return file_data_list\n",
    " \n",
    "# prepare the traning data\n",
    "spam_train_df=pd.DataFrame(get_DatafromFiles(spam_train_files),columns=['email'])\n",
    "spam_train_df['email_class']='spam'\n",
    "\n",
    "not_spam_train_df=pd.DataFrame(get_DatafromFiles(not_spam_train_files),columns=['email'])\n",
    "not_spam_train_df['email_class']='not-spam'\n",
    "train_df=not_spam_train_df.append(spam_train_df)\n",
    "train_df.reset_index(drop=True,inplace=True)"
   ]
  },
  {
   "cell_type": "code",
   "execution_count": 3,
   "metadata": {
    "collapsed": true
   },
   "outputs": [],
   "source": [
    "#genrate X and y\n",
    "X=pd.DataFrame(train_df['email'])\n",
    "y=pd.DataFrame(train_df['email_class'])"
   ]
  },
  {
   "cell_type": "code",
   "execution_count": 4,
   "metadata": {
    "collapsed": true
   },
   "outputs": [],
   "source": [
    "#split the test and train data for validation\n",
    "X_train,X_test,y_train,y_test =train_test_split(X,y,test_size=0.30, random_state=42)"
   ]
  },
  {
   "cell_type": "code",
   "execution_count": 5,
   "metadata": {
    "collapsed": true
   },
   "outputs": [],
   "source": [
    "#method to genrate tokens\n",
    "def word_tokenizer(data):\n",
    "    return str(nltk.word_tokenize(data))"
   ]
  },
  {
   "cell_type": "code",
   "execution_count": 6,
   "metadata": {
    "collapsed": true
   },
   "outputs": [],
   "source": [
    "# get the tokens for train and test\n",
    "X_tokenized =X['email'].apply(lambda x:word_tokenizer(x))\n",
    "X_train_tokenized =X_train['email'].apply(lambda x:word_tokenizer(x))\n",
    "X_test_tokenized =X_test['email'].apply(lambda x:word_tokenizer(x))"
   ]
  },
  {
   "cell_type": "code",
   "execution_count": 7,
   "metadata": {
    "collapsed": true
   },
   "outputs": [],
   "source": [
    "#genrate vocabulary from corpus andf get vectors for train and test\n",
    "tfidf_vectorizer =TfidfVectorizer(stop_words='english',lowercase=True,ngram_range=(1, 2),max_features=5000)\n",
    "X_vec=tfidf_vectorizer.fit(X_tokenized)\n",
    "X_train_vec=tfidf_vectorizer.transform(X_train_tokenized)\n",
    "X_test_vec=tfidf_vectorizer.transform(X_test_tokenized)"
   ]
  },
  {
   "cell_type": "code",
   "execution_count": 8,
   "metadata": {},
   "outputs": [
    {
     "name": "stderr",
     "output_type": "stream",
     "text": [
      "C:\\ProgramData\\Anaconda3\\lib\\site-packages\\sklearn\\utils\\validation.py:578: DataConversionWarning: A column-vector y was passed when a 1d array was expected. Please change the shape of y to (n_samples, ), for example using ravel().\n",
      "  y = column_or_1d(y, warn=True)\n"
     ]
    },
    {
     "data": {
      "text/plain": [
       "LogisticRegression(C=1.0, class_weight=None, dual=False, fit_intercept=True,\n",
       "          intercept_scaling=1, max_iter=100, multi_class='ovr', n_jobs=1,\n",
       "          penalty='l2', random_state=None, solver='liblinear', tol=0.0001,\n",
       "          verbose=0, warm_start=False)"
      ]
     },
     "execution_count": 8,
     "metadata": {},
     "output_type": "execute_result"
    }
   ],
   "source": [
    "#build the model for classification LogisticRegression\n",
    "Classifier=LogisticRegression()\n",
    "Classifier.fit(X_train_vec,y_train)"
   ]
  },
  {
   "cell_type": "code",
   "execution_count": 12,
   "metadata": {},
   "outputs": [
    {
     "name": "stdout",
     "output_type": "stream",
     "text": [
      "accuracy for train set=0.9959183673469387\n",
      "accuracy for test set=0.9904761904761905\n"
     ]
    }
   ],
   "source": [
    "#get the prediction for train and test set and show the accuracy for both\n",
    "predict_train=pd.DataFrame(Classifier.predict(X_train_vec))\n",
    "predict_test=pd.DataFrame(Classifier.predict(X_test_vec))\n",
    "print(\"accuracy for train set={0}\".format(accuracy_score(y_train,predict_train)))\n",
    "print(\"accuracy for test set={0}\".format(accuracy_score(y_test,predict_test)))"
   ]
  },
  {
   "cell_type": "code",
   "execution_count": 13,
   "metadata": {},
   "outputs": [
    {
     "name": "stderr",
     "output_type": "stream",
     "text": [
      "C:\\ProgramData\\Anaconda3\\lib\\site-packages\\sklearn\\utils\\validation.py:578: DataConversionWarning: A column-vector y was passed when a 1d array was expected. Please change the shape of y to (n_samples, ), for example using ravel().\n",
      "  y = column_or_1d(y, warn=True)\n",
      "C:\\ProgramData\\Anaconda3\\lib\\site-packages\\sklearn\\utils\\validation.py:578: DataConversionWarning: A column-vector y was passed when a 1d array was expected. Please change the shape of y to (n_samples, ), for example using ravel().\n",
      "  y = column_or_1d(y, warn=True)\n",
      "C:\\ProgramData\\Anaconda3\\lib\\site-packages\\sklearn\\utils\\validation.py:578: DataConversionWarning: A column-vector y was passed when a 1d array was expected. Please change the shape of y to (n_samples, ), for example using ravel().\n",
      "  y = column_or_1d(y, warn=True)\n",
      "C:\\ProgramData\\Anaconda3\\lib\\site-packages\\sklearn\\utils\\validation.py:578: DataConversionWarning: A column-vector y was passed when a 1d array was expected. Please change the shape of y to (n_samples, ), for example using ravel().\n",
      "  y = column_or_1d(y, warn=True)\n",
      "C:\\ProgramData\\Anaconda3\\lib\\site-packages\\sklearn\\utils\\validation.py:578: DataConversionWarning: A column-vector y was passed when a 1d array was expected. Please change the shape of y to (n_samples, ), for example using ravel().\n",
      "  y = column_or_1d(y, warn=True)\n",
      "C:\\ProgramData\\Anaconda3\\lib\\site-packages\\sklearn\\utils\\validation.py:578: DataConversionWarning: A column-vector y was passed when a 1d array was expected. Please change the shape of y to (n_samples, ), for example using ravel().\n",
      "  y = column_or_1d(y, warn=True)\n",
      "C:\\ProgramData\\Anaconda3\\lib\\site-packages\\sklearn\\utils\\validation.py:578: DataConversionWarning: A column-vector y was passed when a 1d array was expected. Please change the shape of y to (n_samples, ), for example using ravel().\n",
      "  y = column_or_1d(y, warn=True)\n",
      "C:\\ProgramData\\Anaconda3\\lib\\site-packages\\sklearn\\utils\\validation.py:578: DataConversionWarning: A column-vector y was passed when a 1d array was expected. Please change the shape of y to (n_samples, ), for example using ravel().\n",
      "  y = column_or_1d(y, warn=True)\n",
      "C:\\ProgramData\\Anaconda3\\lib\\site-packages\\sklearn\\utils\\validation.py:578: DataConversionWarning: A column-vector y was passed when a 1d array was expected. Please change the shape of y to (n_samples, ), for example using ravel().\n",
      "  y = column_or_1d(y, warn=True)\n",
      "C:\\ProgramData\\Anaconda3\\lib\\site-packages\\sklearn\\utils\\validation.py:578: DataConversionWarning: A column-vector y was passed when a 1d array was expected. Please change the shape of y to (n_samples, ), for example using ravel().\n",
      "  y = column_or_1d(y, warn=True)\n"
     ]
    }
   ],
   "source": [
    "#perform cross_validate\n",
    "cv_results = cross_validate(Classifier, X_test_vec, y_test, cv=10)"
   ]
  },
  {
   "cell_type": "code",
   "execution_count": 14,
   "metadata": {},
   "outputs": [
    {
     "data": {
      "text/plain": [
       "array([ 1.        ,  0.95454545,  0.95238095,  0.9047619 ,  1.        ,\n",
       "        1.        ,  0.95238095,  1.        ,  1.        ,  1.        ])"
      ]
     },
     "execution_count": 14,
     "metadata": {},
     "output_type": "execute_result"
    }
   ],
   "source": [
    "#check cross validation result\n",
    "cv_results['test_score']"
   ]
  },
  {
   "cell_type": "code",
   "execution_count": 15,
   "metadata": {
    "collapsed": true
   },
   "outputs": [],
   "source": [
    "#save the TfidfVectorizer for prediction\n",
    "TfidfVectorizer_pickle_file=r'models\\TfidfVectorizer_pickle.dat'\n",
    "TfidfVectorizer_pickle = open(TfidfVectorizer_pickle_file, 'wb')\n",
    "pickle.dump(tfidf_vectorizer,TfidfVectorizer_pickle)\n",
    "TfidfVectorizer_pickle.close()"
   ]
  },
  {
   "cell_type": "code",
   "execution_count": 16,
   "metadata": {
    "collapsed": true
   },
   "outputs": [],
   "source": [
    "#save the model for prediction\n",
    "Classifier_pickle_file=r'models\\Classifier_pickle.dat'\n",
    "Classifier_pickle = open(Classifier_pickle_file, 'wb')\n",
    "pickle.dump(Classifier,Classifier_pickle)\n",
    "Classifier_pickle.close()"
   ]
  }
 ],
 "metadata": {
  "kernelspec": {
   "display_name": "Python 3",
   "language": "python",
   "name": "python3"
  },
  "language_info": {
   "codemirror_mode": {
    "name": "ipython",
    "version": 3
   },
   "file_extension": ".py",
   "mimetype": "text/x-python",
   "name": "python",
   "nbconvert_exporter": "python",
   "pygments_lexer": "ipython3",
   "version": "3.6.3"
  }
 },
 "nbformat": 4,
 "nbformat_minor": 2
}
